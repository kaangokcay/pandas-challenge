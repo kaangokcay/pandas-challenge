{
 "cells": [
  {
   "cell_type": "code",
   "execution_count": null,
   "metadata": {},
   "outputs": [],
   "source": [
    "#Dependancies \n",
    "\n",
    "import pandas as pd\n",
    "\n",
    "file_to_load = \"Resources/purchase_data.csv\"\n",
    "\n",
    "purchase_data = pd.read_csv(file_to_load)"
   ]
  },
  {
   "cell_type": "code",
   "execution_count": null,
   "metadata": {},
   "outputs": [],
   "source": [
    "purchase_data.head()\n"
   ]
  },
  {
   "cell_type": "code",
   "execution_count": null,
   "metadata": {},
   "outputs": [],
   "source": [
    "#Player Count\n",
    "\n",
    "unique_players = purchase_data['SN'].nunique()\n",
    "total_players = pd.DataFrame({\"Total Players\": [unique_players]})\n",
    "total_players \n"
   ]
  },
  {
   "cell_type": "code",
   "execution_count": null,
   "metadata": {},
   "outputs": [],
   "source": [
    "#Purchasing Analysis (Total)\n",
    "\n",
    "unique_items = purchase_data['Item ID'].nunique()\n",
    "average_price = round(purchase_data[\"Price\"].mean(),2)\n",
    "purchases = purchase_data[\"Price\"].count()\n",
    "total_revenue = sum(purchase_data[\"Price\"])\n",
    "\n",
    "purchase_summary = pd.DataFrame({\"Number of Unique Items\": [unique_items], \"Average Price\": [average_price], \"Number of Purchases\": [purchases], \"Total Revenue\": [total_revenue]})\n",
    "purchase_summary.style.format({\"Average Price\":\"${:,.2f}\", \"Total Revenue\":\"${:,.2f}\"})\n"
   ]
  },
  {
   "cell_type": "code",
   "execution_count": null,
   "metadata": {},
   "outputs": [],
   "source": [
    "# Gender Demographics \n",
    "\n",
    "gender_stats = purchase_data.groupby(\"Gender\")\n",
    "gender_count = gender_stats.nunique()[\"SN\"]\n",
    "gender_percent = gender_count/ unique_players\n",
    "\n",
    "gender_summary = pd.DataFrame({\"Total Count\": gender_count, \"Percentage of Players\": gender_percent})\n",
    "\n",
    "gender_summary.index.name = None\n",
    "gender_summary.sort_values([\"Total Count\"], ascending = False).style.format({\"Percentage of Players\":\"{:.2%}\"})\n"
   ]
  },
  {
   "cell_type": "code",
   "execution_count": null,
   "metadata": {
    "scrolled": true
   },
   "outputs": [],
   "source": [
    "#  Purchasing Analysis (Gender)\n",
    "\n",
    "purchase_count = gender_stats.count()[\"Purchase ID\"]\n",
    "avg_purchase = round(gender_stats.mean()[\"Price\"],2)\n",
    "total_purchase = gender_stats.sum()[\"Price\"]\n",
    "avg_purchase_person = round(total_purchase / gender_count,2)\n",
    "\n",
    "\n",
    "purchase_analysis =pd.DataFrame({\"Purchase Count\": purchase_count, \"Average Purchase Price\": avg_purchase, \"Total Purchase Value\": total_purchase, \"Avg Total Purchase per Person\": avg_purchase_person})\n",
    "purchase_analysis.style.format({\"Average Purchase Price\":\"${:,.2f}\", \"Total Purchase Value\":\"${:,.2f}\", \"Avg Total Purchase per Person\":\"${:,.2f}\"})\n"
   ]
  },
  {
   "cell_type": "code",
   "execution_count": null,
   "metadata": {},
   "outputs": [],
   "source": [
    "#  Age Demographics\n",
    "\n",
    "bins = [0, 9, 14, 19, 24, 29, 34, 39, 100]\n",
    "group_names = ['<10', '10-14', '15-19', '20-24','25-29','30-34','35-39','40+']\n",
    " \n",
    "purchase_data[\"Age\"] = pd.cut(purchase_data[\"Age\"], bins, labels= group_names)\n",
    "\n",
    "age_group_count = purchase_data[\"Age\"].value_counts()\n",
    "age_group_avg = round(purchase_data.groupby(\"Age\")[\"Price\"].mean(),2)\n",
    "age_group_total = purchase_data.groupby(\"Age\")[\"Price\"].sum()\n",
    "age_group_avg_person = round(age_group_total / purchase_data.groupby(\"Age\")[\"SN\"].nunique(),2)\n",
    "\n",
    "age_range_summary = pd.DataFrame({\"Purchase Count\":age_group_count,\"Average Purchase Price\":age_group_avg,\"Total Purchase Value\": age_group_total, \"Avg Total Purchase per Person\": age_group_avg_person})\n",
    "age_range_summary.style.format({\"Average Purchase Price\":\"${:,.2f}\", \"Total Purchase Value\":\"${:,.2f}\", \"Avg Total Purchase per Person\":\"${:,.2f}\"})\n"
   ]
  },
  {
   "cell_type": "code",
   "execution_count": null,
   "metadata": {},
   "outputs": [],
   "source": [
    "#  Top Spenders\n",
    "\n",
    "purchase_count_sn = purchase_data.groupby(\"SN\").count()[\"Price\"]\n",
    "average_price_sn = round(purchase_data.groupby(\"SN\").mean()[\"Price\"],2)\n",
    "purchase_total_sn = purchase_data.groupby(\"SN\").sum()[\"Price\"]\n",
    "\n",
    "total_user_data = pd.DataFrame({\"Purchase Count\":purchase_count_sn,\"Average Purchase Price\": average_price_sn,\"Total Purchase Value\": purchase_total_sn})\n",
    "\n",
    "top_five = total_user_data.sort_values(\"Total Purchase Value\", ascending=False)\n",
    "top_five[\"Average Purchase Price\"] = top_five[\"Average Purchase Price\"].map(\"${:,.2f}\".format)\n",
    "top_five[\"Total Purchase Value\"] = top_five[\"Total Purchase Value\"].map(\"${:,.2f}\".format)\n",
    "top_five.head()\n"
   ]
  },
  {
   "cell_type": "code",
   "execution_count": null,
   "metadata": {},
   "outputs": [],
   "source": [
    "#  Most Popular Items\n",
    "\n",
    "items_purchase_count = purchase_data.groupby([\"Item ID\", \"Item Name\"]).count()[\"Price\"]\n",
    "items_average_price = purchase_data.groupby([\"Item ID\", \"Item Name\"]).mean()[\"Price\"]\n",
    "items_value_total = purchase_data.groupby([\"Item ID\", \"Item Name\"]).sum()[\"Price\"]\n",
    "\n",
    "items_purchased = pd.DataFrame({\"Purchase Count\":items_purchase_count,\"Item Price\":items_average_price,\"Total Purchase Value\":items_value_total})\n",
    "\n",
    "most_popular_items = items_purchased.sort_values(\"Purchase Count\", ascending=False)\n",
    "most_popular_items[\"Item Price\"] = most_popular_items[\"Item Price\"].map(\"${:,.2f}\".format)\n",
    "most_popular_items[\"Total Purchase Value\"] = most_popular_items[\"Total Purchase Value\"].map(\"${:,.2f}\".format)\n",
    "most_popular_items.head()\n"
   ]
  },
  {
   "cell_type": "code",
   "execution_count": null,
   "metadata": {},
   "outputs": [],
   "source": [
    "#  Most Profitable Items\n",
    "\n",
    "most_profitable_items = items_purchased.sort_values(\"Total Purchase Value\", ascending=False)\n",
    "most_profitable_items[\"Item Price\"] = most_profitable_items[\"Item Price\"].map(\"${:,.2f}\".format)\n",
    "most_profitable_items[\"Total Purchase Value\"] = most_profitable_items[\"Total Purchase Value\"].map(\"${:,.2f}\".format)\n",
    "most_profitable_items.head()\n"
   ]
  },
  {
   "cell_type": "code",
   "execution_count": null,
   "metadata": {},
   "outputs": [],
   "source": [
    "#Summary Findings \n",
    "\n",
    "#1. The game is very male dominated with 84% of the players made up of males but on average they spend less than females. \n",
    "#2. The game is most popular among 20-24 year olds who nearly make up half of the player base.  \n",
    "#3. Oathbreaker is the most popular item having been purchased the most and generated most revenue. \n"
   ]
  }
 ],
 "metadata": {
  "kernelspec": {
   "display_name": "Python 3",
   "language": "python",
   "name": "python3"
  },
  "language_info": {
   "codemirror_mode": {
    "name": "ipython",
    "version": 3
   },
   "file_extension": ".py",
   "mimetype": "text/x-python",
   "name": "python",
   "nbconvert_exporter": "python",
   "pygments_lexer": "ipython3",
   "version": "3.6.10"
  }
 },
 "nbformat": 4,
 "nbformat_minor": 2
}
